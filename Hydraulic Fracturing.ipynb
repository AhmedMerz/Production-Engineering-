{
 "cells": [
  {
   "attachments": {},
   "cell_type": "markdown",
   "metadata": {},
   "source": [
    "# Unified Fracture Design"
   ]
  },
  {
   "cell_type": "code",
   "execution_count": 6,
   "metadata": {},
   "outputs": [],
   "source": [
    "import numpy as np"
   ]
  },
  {
   "attachments": {},
   "cell_type": "markdown",
   "metadata": {},
   "source": [
    "### Square Reservoir Area"
   ]
  },
  {
   "cell_type": "code",
   "execution_count": 4,
   "metadata": {},
   "outputs": [],
   "source": [
    "#Proppant number\n",
    "def Np(kf,Vf,k,Vr):\n",
    "    '''\n",
    "    kf: Proppant Pack Conductivity md-ft\n",
    "    Vf: Fracture Volume ft3\n",
    "    k : Reservoir Permeability \n",
    "    Vr: Reservoir Volume \n",
    "    '''\n",
    "    NP= 2*kf*Vf/(k*Vr)\n",
    "    return NP"
   ]
  },
  {
   "cell_type": "code",
   "execution_count": 5,
   "metadata": {},
   "outputs": [],
   "source": [
    "# Fracture Volume \n",
    "def VF(Propmass,hf,h,PropPor,Yprop):\n",
    "    '''\n",
    "    Propmass: proppant total injected mass lb\n",
    "    hf   : total fracture height ft\n",
    "    h   : Reservoir Thickness\n",
    "    PropPor: Proppant Pack Porosity frac.\n",
    "    Yprop : Proppant gravity \n",
    "    '''\n",
    "    V=h/hf*Propmass/(62.4*Yprop*(1-PropPor))\n",
    "    return V"
   ]
  },
  {
   "cell_type": "code",
   "execution_count": 8,
   "metadata": {},
   "outputs": [],
   "source": [
    "#Maximum Dimensionless productivity Index \n",
    "def JDmax(NP):\n",
    "    if NP <=0.1:\n",
    "        return 1/(0.99-0.5*np.log(NP))\n",
    "    if NP >0.1 and NP<100:\n",
    "        return 6/3.14 -np.exp((0.423-0.311*NP-0.089*NP**2)/(1+0.667*NP+0.015*NP**2))\n",
    "    if NP>= 100:\n",
    "        return 6/3.14"
   ]
  },
  {
   "cell_type": "code",
   "execution_count": 17,
   "metadata": {},
   "outputs": [],
   "source": [
    "#Optimal Fracture Conductivity \n",
    "def Cfdopt(NP):\n",
    "    if NP <0.1:\n",
    "        return 1.6\n",
    "    if NP >=0.1 and NP<=10:\n",
    "        return 1.6 +np.exp((-0.583+1.48*np.log(NP))/(1+0.142*np.log(NP)))\n",
    "    if NP> 10:\n",
    "        return NP"
   ]
  },
  {
   "cell_type": "code",
   "execution_count": 22,
   "metadata": {},
   "outputs": [],
   "source": [
    "def xfopt(kf,Vf,Cfdopt,k,h):\n",
    "    '''\n",
    "    kf: Proppant Pack Conductivity md-ft\n",
    "    Vf: Fracture Volume ft3\n",
    "    Cfdopt : Calculated optimum dimensionless fracture conductivity\n",
    "    k : Reservoir Permeability md\n",
    "    h: Reservoir Thichness ft\n",
    "    '''\n",
    "    return np.sqrt(kf*Vf/(2*Cfdopt*k*h))\n",
    "def wopt(kf,Vf,Cfdopt,k,h):\n",
    "    '''\n",
    "    kf: Proppant Pack Conductivity md-ft\n",
    "    Vf: Fracture Volume ft3\n",
    "    Cfdopt : Calculated optimum dimensionless fracture conductivity\n",
    "    k : Reservoir Permeability md\n",
    "    h: Reservoir Thichness ft\n",
    "    '''\n",
    "    return np.sqrt(Cfdopt*k*Vf/(2*kf*h))"
   ]
  },
  {
   "cell_type": "code",
   "execution_count": null,
   "metadata": {},
   "outputs": [],
   "source": []
  },
  {
   "attachments": {},
   "cell_type": "markdown",
   "metadata": {},
   "source": [
    "### Non Square Reservoir"
   ]
  },
  {
   "cell_type": "code",
   "execution_count": null,
   "metadata": {},
   "outputs": [],
   "source": []
  },
  {
   "attachments": {},
   "cell_type": "markdown",
   "metadata": {},
   "source": [
    "### References: \n",
    "##### Unified Fracture Design: Bridging the Gap Between Theory and Practice (2001) by Ronald E. Oligney (Author), Peter Valko (Author), Michael J. Economides (Author)"
   ]
  },
  {
   "cell_type": "markdown",
   "metadata": {},
   "source": []
  }
 ],
 "metadata": {
  "kernelspec": {
   "display_name": "Python 3",
   "language": "python",
   "name": "python3"
  },
  "language_info": {
   "codemirror_mode": {
    "name": "ipython",
    "version": 3
   },
   "file_extension": ".py",
   "mimetype": "text/x-python",
   "name": "python",
   "nbconvert_exporter": "python",
   "pygments_lexer": "ipython3",
   "version": "3.10.10"
  },
  "orig_nbformat": 4
 },
 "nbformat": 4,
 "nbformat_minor": 2
}
